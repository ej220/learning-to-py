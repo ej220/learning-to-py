{
 "cells": [
  {
   "cell_type": "markdown",
   "metadata": {},
   "source": [
    "Lists and dictionaries are useful structures for storing data for programs to use, e.g.:"
   ]
  },
  {
   "cell_type": "code",
   "execution_count": 1,
   "metadata": {},
   "outputs": [],
   "source": [
    "cat = {'name' : 'Zophie', 'age' : 7, 'colour' : 'gray'}"
   ]
  },
  {
   "cell_type": "code",
   "execution_count": 2,
   "metadata": {},
   "outputs": [],
   "source": [
    "allCats = []"
   ]
  },
  {
   "cell_type": "code",
   "execution_count": 4,
   "metadata": {},
   "outputs": [],
   "source": [
    "allCats.append({'name' : 'Zophie', 'age' : 7, 'colour' : 'gray'})"
   ]
  },
  {
   "cell_type": "code",
   "execution_count": 5,
   "metadata": {},
   "outputs": [],
   "source": [
    "allCats.append({'name' : 'Pooka', 'age' : 5, 'colour' : 'black'})"
   ]
  },
  {
   "cell_type": "code",
   "execution_count": 6,
   "metadata": {},
   "outputs": [],
   "source": [
    "allCats.append({'name' : 'Fat-tail', 'age' : 5, 'colour' : 'gray'})"
   ]
  },
  {
   "cell_type": "code",
   "execution_count": 7,
   "metadata": {},
   "outputs": [],
   "source": [
    "allCats.append({'name' : 'Mysterio', 'age' : -1, 'colour' : 'orange'})"
   ]
  },
  {
   "cell_type": "code",
   "execution_count": 8,
   "metadata": {},
   "outputs": [
    {
     "data": {
      "text/plain": [
       "[{'name': 'Zophie', 'age': 7, 'colour': 'gray'},\n",
       " {'name': 'Zophie', 'age': 7, 'colour': 'gray'},\n",
       " {'name': 'Pooka', 'age': 5, 'colour': 'black'},\n",
       " {'name': 'Fat-tail', 'age': 5, 'colour': 'gray'},\n",
       " {'name': 'Mysterio', 'age': -1, 'colour': 'orange'}]"
      ]
     },
     "execution_count": 8,
     "metadata": {},
     "output_type": "execute_result"
    }
   ],
   "source": [
    "allCats"
   ]
  },
  {
   "cell_type": "markdown",
   "metadata": {},
   "source": [
    "This list of dictionaries is called a 'data-structure', and can be used in our programs.\n",
    "\n",
    "\n",
    "\n",
    "\n",
    "\n",
    "For example, lets set up a noughts and crosses game-board:"
   ]
  },
  {
   "cell_type": "code",
   "execution_count": 13,
   "metadata": {},
   "outputs": [],
   "source": [
    "theboard = {'top-L' : \" \", 'top-M' : \" \", 'top-R' : \" \",\n",
    "            'mid-L' : \" \", 'mid-M' : \" \", 'mid-R' : \" \",\n",
    "            'low-L' : \" \", 'low-M' : \" \", 'low-R' : \" \",\n",
    "           }"
   ]
  },
  {
   "cell_type": "code",
   "execution_count": 14,
   "metadata": {},
   "outputs": [
    {
     "data": {
      "text/plain": [
       "{'top-L': ' ',\n",
       " 'top-M': ' ',\n",
       " 'top-R': ' ',\n",
       " 'mid-L': ' ',\n",
       " 'mid-M': ' ',\n",
       " 'mid-R': ' ',\n",
       " 'low-L': ' ',\n",
       " 'low-M': ' ',\n",
       " 'low-R': ' '}"
      ]
     },
     "execution_count": 14,
     "metadata": {},
     "output_type": "execute_result"
    }
   ],
   "source": [
    "theboard"
   ]
  },
  {
   "cell_type": "code",
   "execution_count": 15,
   "metadata": {},
   "outputs": [],
   "source": [
    "import pprint"
   ]
  },
  {
   "cell_type": "code",
   "execution_count": 16,
   "metadata": {},
   "outputs": [
    {
     "name": "stdout",
     "output_type": "stream",
     "text": [
      "{'low-L': ' ',\n",
      " 'low-M': ' ',\n",
      " 'low-R': ' ',\n",
      " 'mid-L': ' ',\n",
      " 'mid-M': ' ',\n",
      " 'mid-R': ' ',\n",
      " 'top-L': ' ',\n",
      " 'top-M': ' ',\n",
      " 'top-R': ' '}\n"
     ]
    }
   ],
   "source": [
    "pprint.pprint(theboard)"
   ]
  },
  {
   "cell_type": "code",
   "execution_count": 41,
   "metadata": {},
   "outputs": [],
   "source": [
    "def boardprint(x):\n",
    "    print(' ' + str(x['top-L']) + ' | ' + str(x['top-M']) + ' | ' + str(x['top-R']) + ' ')\n",
    "    print('-----------')\n",
    "    print(' ' + str(x['mid-L']) + ' | ' + str(x['mid-M']) + ' | ' + str(x['mid-R']) + ' ')\n",
    "    print('-----------')\n",
    "    print(' ' + str(x['low-L']) + ' | ' + str(x['low-M']) + ' | ' + str(x['low-R']) + ' ')\n",
    "    "
   ]
  },
  {
   "cell_type": "code",
   "execution_count": 42,
   "metadata": {},
   "outputs": [
    {
     "name": "stdout",
     "output_type": "stream",
     "text": [
      "   |   |   \n",
      "-----------\n",
      "   | x | o \n",
      "-----------\n",
      "   |   |   \n"
     ]
    }
   ],
   "source": [
    "boardprint(theboard)"
   ]
  },
  {
   "cell_type": "code",
   "execution_count": 43,
   "metadata": {},
   "outputs": [],
   "source": [
    "theboard['mid-M'] = 'x'"
   ]
  },
  {
   "cell_type": "code",
   "execution_count": 44,
   "metadata": {},
   "outputs": [
    {
     "name": "stdout",
     "output_type": "stream",
     "text": [
      "   |   |   \n",
      "-----------\n",
      "   | x | o \n",
      "-----------\n",
      "   |   |   \n"
     ]
    }
   ],
   "source": [
    "boardprint(theboard)"
   ]
  },
  {
   "cell_type": "code",
   "execution_count": 45,
   "metadata": {},
   "outputs": [],
   "source": [
    "theboard['mid-R'] = 'o'"
   ]
  },
  {
   "cell_type": "code",
   "execution_count": 46,
   "metadata": {},
   "outputs": [
    {
     "name": "stdout",
     "output_type": "stream",
     "text": [
      "   |   |   \n",
      "-----------\n",
      "   | x | o \n",
      "-----------\n",
      "   |   |   \n"
     ]
    }
   ],
   "source": [
    "boardprint(theboard)"
   ]
  },
  {
   "cell_type": "markdown",
   "metadata": {},
   "source": [
    "Finally consider the `type()` function. This can be called from the interactive shell, and will return the data type:"
   ]
  },
  {
   "cell_type": "code",
   "execution_count": 47,
   "metadata": {},
   "outputs": [
    {
     "data": {
      "text/plain": [
       "int"
      ]
     },
     "execution_count": 47,
     "metadata": {},
     "output_type": "execute_result"
    }
   ],
   "source": [
    "type(42)"
   ]
  },
  {
   "cell_type": "code",
   "execution_count": 48,
   "metadata": {},
   "outputs": [
    {
     "data": {
      "text/plain": [
       "float"
      ]
     },
     "execution_count": 48,
     "metadata": {},
     "output_type": "execute_result"
    }
   ],
   "source": [
    "type(3.14)"
   ]
  },
  {
   "cell_type": "code",
   "execution_count": 49,
   "metadata": {},
   "outputs": [
    {
     "data": {
      "text/plain": [
       "str"
      ]
     },
     "execution_count": 49,
     "metadata": {},
     "output_type": "execute_result"
    }
   ],
   "source": [
    "type('billy is a dog')"
   ]
  },
  {
   "cell_type": "code",
   "execution_count": 50,
   "metadata": {},
   "outputs": [
    {
     "data": {
      "text/plain": [
       "dict"
      ]
     },
     "execution_count": 50,
     "metadata": {},
     "output_type": "execute_result"
    }
   ],
   "source": [
    "type(theboard)"
   ]
  },
  {
   "cell_type": "code",
   "execution_count": 51,
   "metadata": {},
   "outputs": [
    {
     "data": {
      "text/plain": [
       "str"
      ]
     },
     "execution_count": 51,
     "metadata": {},
     "output_type": "execute_result"
    }
   ],
   "source": [
    "type(theboard['top-L'])"
   ]
  },
  {
   "cell_type": "markdown",
   "metadata": {},
   "source": [
    "You can call the `type()` function on individual values in a dictionary too, to let you know the data type of individual entries"
   ]
  },
  {
   "cell_type": "code",
   "execution_count": null,
   "metadata": {},
   "outputs": [],
   "source": []
  }
 ],
 "metadata": {
  "kernelspec": {
   "display_name": "Python 3",
   "language": "python",
   "name": "python3"
  },
  "language_info": {
   "codemirror_mode": {
    "name": "ipython",
    "version": 3
   },
   "file_extension": ".py",
   "mimetype": "text/x-python",
   "name": "python",
   "nbconvert_exporter": "python",
   "pygments_lexer": "ipython3",
   "version": "3.6.5"
  }
 },
 "nbformat": 4,
 "nbformat_minor": 4
}
