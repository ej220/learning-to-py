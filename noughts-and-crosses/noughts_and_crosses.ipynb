{
 "cells": [
  {
   "cell_type": "code",
   "execution_count": 41,
   "metadata": {},
   "outputs": [],
   "source": [
    "import random\n",
    "import time\n",
    "\n",
    "def greeter():\n",
    "    print('Hi! What is your name?')\n",
    "    name = input()\n",
    "    gamesplayed = 0\n",
    "    playerwins = 0\n",
    "    computerwins = 0\n",
    "    while True:\n",
    "        gamesplayed, playerwins, computerwins = start_game(name, gamesplayed, playerwins, computerwins)\n",
    "        print(f'We have played {gamesplayed} games.')\n",
    "        print(f'The current score is: You {playerwins} - {computerwins} Me')\n",
    "        print('Play again? (yes/no)')\n",
    "        if yesno() == False:\n",
    "            break\n",
    "    print('OK. It was nice playing with you. See you next time!')\n",
    "        \n",
    "def yesno():\n",
    "    while True:\n",
    "        response = input()\n",
    "        if response[0].lower() not in ['y', 'n']:\n",
    "            print('I am sorry, I did not understand that. Try again please. (yes / no)')\n",
    "        elif response[0].lower() == 'n':\n",
    "            return(False)\n",
    "        else:\n",
    "            return(True)\n",
    "\n",
    "def start_game(name, gamesplayed, playerwins, computerwins):\n",
    "    gamesplayed += 1\n",
    "    player = name\n",
    "    print(\"Lets play noughts and crosses. Pick a token, X or O.\")\n",
    "    while True:\n",
    "        pick = input()\n",
    "        if pick.lower() == \"x\":\n",
    "            usertoken = \"X\"\n",
    "            pytoken = \"O\"\n",
    "            break\n",
    "        elif pick.lower() == \"o\":\n",
    "            usertoken = \"O\"\n",
    "            pytoken = \"X\"\n",
    "            break\n",
    "        else:\n",
    "            print('Pick again, I did not understand that.')\n",
    "    print(\"\")\n",
    "    print(\"OK. Nice choice.\")\n",
    "    print(\"...\")\n",
    "    print(\"Let's get this game started!\")\n",
    "    print(\"\")\n",
    "    gameboard = {'top-L' : \" \", 'top-M' : \" \", 'top-R' : \" \",\n",
    "                 'mid-L' : \" \", 'mid-M' : \" \", 'mid-R' : \" \",\n",
    "                 'low-L' : \" \", 'low-M' : \" \", 'low-R' : \" \",\n",
    "                 }\n",
    "    boardprint(gameboard)\n",
    "    print(\"\")\n",
    "    firstgo = random.choice(['player', 'computer'])\n",
    "    if firstgo == 'player':\n",
    "        print('You go first.')\n",
    "    else:\n",
    "        print('I will go first.')\n",
    "    print(\"\")\n",
    "    playerwins, computerwins = game(gameboard, usertoken, pytoken, firstgo, player, playerwins, computerwins)\n",
    "    return(gamesplayed, playerwins, computerwins)\n",
    "\n",
    "def game(gameboard, usertoken, pytoken, firstgo, player, playerwins, computerwins):\n",
    "    goes = 0\n",
    "    win = False\n",
    "    if firstgo == 'player':\n",
    "        while True:\n",
    "            print(\"\")\n",
    "            print(\"Your go...\")\n",
    "            print(\"\")\n",
    "            time.sleep(1)\n",
    "            turn = 'player'\n",
    "            usergo(gameboard, usertoken, turn)\n",
    "            goes += 1\n",
    "            win = wincheck(gameboard, win)\n",
    "            if win == True or goes == 9:\n",
    "                break\n",
    "            time.sleep(1)\n",
    "            print(\"\")\n",
    "            print(\"My go...\")\n",
    "            print(\"\")\n",
    "            time.sleep(1)\n",
    "            turn = 'computer'\n",
    "            pygo(gameboard, pytoken, turn)\n",
    "            goes += 1\n",
    "            win = wincheck(gameboard, win)\n",
    "            if win == True or goes == 9:\n",
    "                break\n",
    "    else:\n",
    "        while win != True:\n",
    "            print(\"\")\n",
    "            print(\"My go...\")\n",
    "            print(\"\")\n",
    "            time.sleep(1)\n",
    "            turn = 'computer'\n",
    "            pygo(gameboard, pytoken, turn)\n",
    "            goes += 1\n",
    "            win = wincheck(gameboard, win)\n",
    "            if win == True or goes == 9:\n",
    "                break\n",
    "            print(\"\")\n",
    "            print(\"Your go...\")\n",
    "            print(\"\")\n",
    "            time.sleep(1)\n",
    "            turn = 'player'\n",
    "            usergo(gameboard, usertoken, turn)\n",
    "            goes += 1\n",
    "            win = wincheck(gameboard, win)\n",
    "            if win == True or goes == 9:\n",
    "                break\n",
    "            time.sleep(1)\n",
    "    if win == True:\n",
    "        if goes % 2 != 0 and firstgo == 'player':\n",
    "            print('Congratulations ' + player + '. Maybe we can play again?')\n",
    "            playerwins += 1\n",
    "        elif goes % 2 == 0 and firstgo == 'computer':\n",
    "            print('Congratulations ' + player + '. Maybe we can play again?')\n",
    "            playerwins += 1\n",
    "        else:\n",
    "            print('I won. Suck it!')\n",
    "            computerwins += 1\n",
    "    elif goes == 9:\n",
    "        print('Ran out of turns. It is a stalemate.')\n",
    "    return(playerwins, computerwins)\n",
    "\n",
    "def boardprint(x):\n",
    "    print(' ' + str(x['top-L']) + ' | ' + str(x['top-M']) + ' | ' + str(x['top-R']) + ' ')\n",
    "    print('-----------')\n",
    "    print(' ' + str(x['mid-L']) + ' | ' + str(x['mid-M']) + ' | ' + str(x['mid-R']) + ' ')\n",
    "    print('-----------')\n",
    "    print(' ' + str(x['low-L']) + ' | ' + str(x['low-M']) + ' | ' + str(x['low-R']) + ' ')\n",
    "\n",
    "def usergo(gameboard, usertoken, turn):\n",
    "    print(\"Where would you like to go? ('top-', 'mid-', 'low-' with 'L', 'M' or 'R')\")\n",
    "    while True:\n",
    "        pos = input()\n",
    "        goodrow = [\"top-\", 'mid-', 'low-']\n",
    "        goodcol = ['L', 'M', 'R']\n",
    "        if pos[:3] not in goodrow and pos[-1] not in goodcol:\n",
    "            print('I did not understand that. Please try again.')\n",
    "        elif spacecheck(gameboard, pos, usertoken, turn) == True:\n",
    "            break\n",
    "        \n",
    "def pygo(gameboard, pytoken, turn):\n",
    "    while True:\n",
    "        pos = random.choice(['top-', 'mid-', 'low-']) + random.choice(['L', 'R', 'M'])\n",
    "        #print(pos)\n",
    "        if spacecheck(gameboard, pos, pytoken, turn) == True:\n",
    "            break\n",
    "    return\n",
    "\n",
    "def spacecheck(gameboard, pos, token, turn):\n",
    "    if gameboard[pos] == \" \":\n",
    "        gameboard[pos] = token\n",
    "        boardprint(gameboard)\n",
    "        return(True)\n",
    "    elif turn == 'player':\n",
    "        print(\"This space is occupied. Try again\")\n",
    "\n",
    "def wincheck(gameboard, win):\n",
    "    # Check rows\n",
    "    for row in ['top-', 'mid-', 'low-']:\n",
    "        if gameboard[row + 'L'] == gameboard[row + 'M'] and gameboard[row + 'M'] == gameboard[row + 'R']:\n",
    "            if gameboard[row + 'M'] != \" \":\n",
    "                win = True\n",
    "    # Check columns\n",
    "    for col in ['-L', '-M', '-R']:\n",
    "        if gameboard['top' + col] == gameboard['mid' + col] and gameboard['mid' + col] == gameboard['low' + col]:\n",
    "            if gameboard['mid' + col] != \" \":\n",
    "                win = True\n",
    "    # Check diaganols\n",
    "    if gameboard['mid-M'] != \" \":\n",
    "        if gameboard['mid-M'] == gameboard['top-L'] and gameboard['mid-M'] == gameboard['low-R']:\n",
    "            win = True\n",
    "        if gameboard['mid-M'] == gameboard['low-L'] and gameboard['mid-M'] == gameboard['top-R']:\n",
    "            win = True\n",
    "    return(win)\n"
   ]
  },
  {
   "cell_type": "code",
   "execution_count": 42,
   "metadata": {},
   "outputs": [
    {
     "name": "stdout",
     "output_type": "stream",
     "text": [
      "Hi! What is your name?\n"
     ]
    },
    {
     "name": "stdin",
     "output_type": "stream",
     "text": [
      " Ed\n"
     ]
    },
    {
     "name": "stdout",
     "output_type": "stream",
     "text": [
      "Lets play noughts and crosses. Pick a token, X or O.\n"
     ]
    },
    {
     "name": "stdin",
     "output_type": "stream",
     "text": [
      " X\n"
     ]
    },
    {
     "name": "stdout",
     "output_type": "stream",
     "text": [
      "\n",
      "OK. Nice choice.\n",
      "...\n",
      "Let's get this game started!\n",
      "\n",
      "   |   |   \n",
      "-----------\n",
      "   |   |   \n",
      "-----------\n",
      "   |   |   \n",
      "\n",
      "I will go first.\n",
      "\n",
      "\n",
      "My go...\n",
      "\n",
      "   |   |   \n",
      "-----------\n",
      "   |   | O \n",
      "-----------\n",
      "   |   |   \n",
      "\n",
      "Your go...\n",
      "\n",
      "Where would you like to go? ('top-', 'mid-', 'low-' with 'L', 'M' or 'R')\n"
     ]
    },
    {
     "name": "stdin",
     "output_type": "stream",
     "text": [
      " top-L\n"
     ]
    },
    {
     "name": "stdout",
     "output_type": "stream",
     "text": [
      " X |   |   \n",
      "-----------\n",
      "   |   | O \n",
      "-----------\n",
      "   |   |   \n",
      "\n",
      "My go...\n",
      "\n",
      " X |   |   \n",
      "-----------\n",
      "   |   | O \n",
      "-----------\n",
      "   |   | O \n",
      "\n",
      "Your go...\n",
      "\n",
      "Where would you like to go? ('top-', 'mid-', 'low-' with 'L', 'M' or 'R')\n"
     ]
    },
    {
     "name": "stdin",
     "output_type": "stream",
     "text": [
      " top-R\n"
     ]
    },
    {
     "name": "stdout",
     "output_type": "stream",
     "text": [
      " X |   | X \n",
      "-----------\n",
      "   |   | O \n",
      "-----------\n",
      "   |   | O \n",
      "\n",
      "My go...\n",
      "\n",
      " X |   | X \n",
      "-----------\n",
      " O |   | O \n",
      "-----------\n",
      "   |   | O \n",
      "\n",
      "Your go...\n",
      "\n",
      "Where would you like to go? ('top-', 'mid-', 'low-' with 'L', 'M' or 'R')\n"
     ]
    },
    {
     "name": "stdin",
     "output_type": "stream",
     "text": [
      " top-M\n"
     ]
    },
    {
     "name": "stdout",
     "output_type": "stream",
     "text": [
      " X | X | X \n",
      "-----------\n",
      " O |   | O \n",
      "-----------\n",
      "   |   | O \n",
      "Congratulations Ed. Maybe we can play again?\n",
      "We have played 1 games.\n",
      "The current score is: You 1 - 0 Me\n",
      "Play again? (yes/no)\n"
     ]
    },
    {
     "name": "stdin",
     "output_type": "stream",
     "text": [
      " n\n"
     ]
    },
    {
     "name": "stdout",
     "output_type": "stream",
     "text": [
      "OK. It was nice playing with you. See you next time!\n"
     ]
    }
   ],
   "source": [
    "greeter()"
   ]
  },
  {
   "cell_type": "code",
   "execution_count": null,
   "metadata": {},
   "outputs": [],
   "source": []
  }
 ],
 "metadata": {
  "kernelspec": {
   "display_name": "Python 3",
   "language": "python",
   "name": "python3"
  },
  "language_info": {
   "codemirror_mode": {
    "name": "ipython",
    "version": 3
   },
   "file_extension": ".py",
   "mimetype": "text/x-python",
   "name": "python",
   "nbconvert_exporter": "python",
   "pygments_lexer": "ipython3",
   "version": "3.6.5"
  }
 },
 "nbformat": 4,
 "nbformat_minor": 4
}
