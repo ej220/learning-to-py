{
 "cells": [
  {
   "cell_type": "code",
   "execution_count": 10,
   "metadata": {},
   "outputs": [],
   "source": [
    "import random\n",
    "import time\n",
    "\n",
    "def greeter():\n",
    "    print('Hi! What is your name?')\n",
    "    name = input()\n",
    "    gamesplayed = 0\n",
    "    playerwins = 0\n",
    "    computerwins = 0\n",
    "    while True:\n",
    "        gamesplayed, playerwins, computerwins = start_game(name, gamesplayed, playerwins, computerwins)\n",
    "        print(f'We have played {gamesplayed} games.')\n",
    "        print(f'The current score is: You {playerwins} - {computerwins} Me')\n",
    "        print('Play again? (yes/no)')\n",
    "        if yesno() == False:\n",
    "            break\n",
    "    print('OK. It was nice playing with you. See you next time!')\n",
    "        \n",
    "def yesno():\n",
    "    while True:\n",
    "        response = input()\n",
    "        if response[0].lower() not in ['y', 'n']:\n",
    "            print('I am sorry, I did not understand that. Try again please. (yes / no)')\n",
    "        elif response[0].lower() == 'n':\n",
    "            return(False)\n",
    "        else:\n",
    "            return(True)\n",
    "\n",
    "def start_game(name, gamesplayed, playerwins, computerwins):\n",
    "    gamesplayed += 1\n",
    "    player = name\n",
    "    print(\"Lets play noughts and crosses. Pick a token, X or O.\")\n",
    "    while True:\n",
    "        pick = input()\n",
    "        if pick.lower() == \"x\":\n",
    "            usertoken = \"X\"\n",
    "            pytoken = \"O\"\n",
    "            break\n",
    "        elif pick.lower() == \"o\":\n",
    "            usertoken = \"O\"\n",
    "            pytoken = \"X\"\n",
    "            break\n",
    "        else:\n",
    "            print('Pick again, I did not understand that.')\n",
    "    print(\"\")\n",
    "    print(\"OK. Nice choice.\")\n",
    "    print(\"...\")\n",
    "    print(\"Let's get this game started!\")\n",
    "    print(\"\")\n",
    "    gameboard = {'top-L' : \" \", 'top-M' : \" \", 'top-R' : \" \",\n",
    "                 'mid-L' : \" \", 'mid-M' : \" \", 'mid-R' : \" \",\n",
    "                 'low-L' : \" \", 'low-M' : \" \", 'low-R' : \" \",\n",
    "                 }\n",
    "    boardprint(gameboard)\n",
    "    print(\"\")\n",
    "    firstgo = random.choice(['player', 'computer'])\n",
    "    if firstgo == 'player':\n",
    "        print('You go first.')\n",
    "    else:\n",
    "        print('I will go first.')\n",
    "    print(\"\")\n",
    "    playerwins, computerwins = game(gameboard, usertoken, pytoken, firstgo, player, playerwins, computerwins)\n",
    "    return(gamesplayed, playerwins, computerwins)\n",
    "\n",
    "def game(gameboard, usertoken, pytoken, firstgo, player, playerwins, computerwins):\n",
    "    goes = 0\n",
    "    win = False\n",
    "    if firstgo == 'player':\n",
    "        while True:\n",
    "            print(\"\")\n",
    "            print(\"Your go...\")\n",
    "            print(\"\")\n",
    "            time.sleep(1)\n",
    "            turn = 'player'\n",
    "            usergo(gameboard, usertoken, turn)\n",
    "            goes += 1\n",
    "            win = wincheck(gameboard, win)\n",
    "            if win == True or goes == 9:\n",
    "                break\n",
    "            time.sleep(1)\n",
    "            print(\"\")\n",
    "            print(\"My go...\")\n",
    "            print(\"\")\n",
    "            time.sleep(1)\n",
    "            turn = 'computer'\n",
    "            pygo(gameboard, pytoken, turn)\n",
    "            goes += 1\n",
    "            win = wincheck(gameboard, win)\n",
    "            if win == True or goes == 9:\n",
    "                break\n",
    "    else:\n",
    "        while win != True:\n",
    "            print(\"\")\n",
    "            print(\"My go...\")\n",
    "            print(\"\")\n",
    "            time.sleep(1)\n",
    "            turn = 'computer'\n",
    "            pygo(gameboard, pytoken, turn)\n",
    "            goes += 1\n",
    "            win = wincheck(gameboard, win)\n",
    "            if win == True or goes == 9:\n",
    "                break\n",
    "            print(\"\")\n",
    "            print(\"Your go...\")\n",
    "            print(\"\")\n",
    "            time.sleep(1)\n",
    "            turn = 'player'\n",
    "            usergo(gameboard, usertoken, turn)\n",
    "            goes += 1\n",
    "            win = wincheck(gameboard, win)\n",
    "            if win == True or goes == 9:\n",
    "                break\n",
    "            time.sleep(1)\n",
    "    if win == True:\n",
    "        if goes % 2 != 0 and firstgo == 'player':\n",
    "            print('Congratulations ' + player + '. Maybe we can play again?')\n",
    "            playerwins += 1\n",
    "        elif goes % 2 == 0 and firstgo == 'computer':\n",
    "            print('Congratulations ' + player + '. Maybe we can play again?')\n",
    "            playerwins += 1\n",
    "        else:\n",
    "            print('I won. Suck it!')\n",
    "            computerwins += 1\n",
    "    elif goes == 9:\n",
    "        print('Ran out of turns. It is a stalemate.')\n",
    "    return(playerwins, computerwins)\n",
    "\n",
    "def boardprint(x):\n",
    "    print(' ' + str(x['top-L']) + ' | ' + str(x['top-M']) + ' | ' + str(x['top-R']) + ' ')\n",
    "    print('-----------')\n",
    "    print(' ' + str(x['mid-L']) + ' | ' + str(x['mid-M']) + ' | ' + str(x['mid-R']) + ' ')\n",
    "    print('-----------')\n",
    "    print(' ' + str(x['low-L']) + ' | ' + str(x['low-M']) + ' | ' + str(x['low-R']) + ' ')\n",
    "\n",
    "def usergo(gameboard, usertoken, turn):\n",
    "    print(\"Where would you like to go? ('top-', 'mid-', 'low-' with 'L', 'M' or 'R')\")\n",
    "    while True:\n",
    "        pos = input()\n",
    "        goodrow = [\"top-\", 'mid-', 'low-']\n",
    "        goodcol = ['L', 'M', 'R']\n",
    "        if pos[:3] not in goodrow and pos[-1] not in goodcol:\n",
    "            print('I did not understand that. Please try again.')\n",
    "        elif spacecheck(gameboard, pos, usertoken, turn) == True:\n",
    "            break\n",
    "        \n",
    "def pygo(gameboard, pytoken, turn):\n",
    "    #while True:\n",
    "    hotpicks = goodmoves(gameboard)\n",
    "    if len(hotpicks) > 0:\n",
    "        pos = random.choice(hotpicks)\n",
    "    else:\n",
    "        while True:\n",
    "            pos = random.choice(['top-', 'mid-', 'low-']) + random.choice(['L', 'R', 'M'])\n",
    "            if gameboard[pos] == \" \":\n",
    "                break\n",
    "    gameboard[pos] = pytoken\n",
    "    boardprint(gameboard)\n",
    "    \n",
    "    #if spacecheck(gameboard, pos, pytoken, turn) == True:\n",
    "     #       break\n",
    "    return\n",
    "\n",
    "def spacecheck(gameboard, pos, token, turn):\n",
    "    if gameboard[pos] == \" \":\n",
    "        gameboard[pos] = token\n",
    "        boardprint(gameboard)\n",
    "        return(True)\n",
    "    elif turn == 'player':\n",
    "        print(\"This space is occupied. Try again\")\n",
    "\n",
    "def wincheck(gameboard, win):\n",
    "    # Check rows\n",
    "    for row in ['top-', 'mid-', 'low-']:\n",
    "        if gameboard[row + 'L'] == gameboard[row + 'M'] and gameboard[row + 'M'] == gameboard[row + 'R']:\n",
    "            if gameboard[row + 'M'] != \" \":\n",
    "                win = True\n",
    "    # Check columns\n",
    "    for col in ['-L', '-M', '-R']:\n",
    "        if gameboard['top' + col] == gameboard['mid' + col] and gameboard['mid' + col] == gameboard['low' + col]:\n",
    "            if gameboard['mid' + col] != \" \":\n",
    "                win = True\n",
    "    # Check diaganols\n",
    "    if gameboard['mid-M'] != \" \":\n",
    "        if gameboard['mid-M'] == gameboard['top-L'] and gameboard['mid-M'] == gameboard['low-R']:\n",
    "            win = True\n",
    "        if gameboard['mid-M'] == gameboard['low-L'] and gameboard['mid-M'] == gameboard['top-R']:\n",
    "            win = True\n",
    "    return(win)\n",
    "\n",
    "def goodmoves(gameboard):\n",
    "    candidates = []\n",
    "    \n",
    "    # top row good moves - identify if there is a space where 2 of 3 is present\n",
    "    if gameboard['top-M'] == gameboard['top-R'] and gameboard['top-M'] != \" \" or gameboard['mid-M'] == gameboard['low-R'] and gameboard['mid-M'] != \" \" or gameboard['mid-L'] == gameboard['low-L'] and gameboard['mid-L'] != \" \":\n",
    "        candidates.append('top-L')\n",
    "    if gameboard['top-L'] == gameboard['top-R'] and gameboard['top-L'] != \" \" or gameboard['mid-M'] == gameboard['low-M'] and gameboard['mid-M'] != \" \":\n",
    "        candidates.append('top-M')\n",
    "    if gameboard['top-M'] == gameboard['top-L'] and gameboard['top-M'] != \" \" or gameboard['mid-M'] == gameboard['low-L'] and gameboard['mid-M'] != \" \" or gameboard['mid-R'] == gameboard['low-R'] and gameboard['mid-R'] != \" \":\n",
    "        candidates.append('top-R')\n",
    "        \n",
    "    # mid row good moves - identify if there is a space where 2 of 3 is present\n",
    "    if gameboard['mid-M'] == gameboard['mid-R'] and gameboard['mid-M'] != \" \" or gameboard['top-L'] == gameboard['low-L'] and gameboard['top-L'] != \" \":\n",
    "        candidates.append('mid-L')\n",
    "    if gameboard['mid-L'] == gameboard['mid-R'] and gameboard['mid-L'] != \" \" or gameboard['top-M'] == gameboard['low-M'] and gameboard['top-M'] != \" \" or gameboard['top-L'] == gameboard['low-R'] and gameboard['top-L'] != \" \" or gameboard['top-R'] == gameboard['low-L'] and gameboard['top-R'] != \" \":\n",
    "        candidates.append('mid-M')\n",
    "    if gameboard['mid-M'] == gameboard['mid-L'] and gameboard['mid-M'] != \" \" or gameboard['top-R'] == gameboard['low-R'] and gameboard['top-R'] != \" \":\n",
    "        candidates.append('mid-R')\n",
    "    \n",
    "    # bottom row good moves\n",
    "    if gameboard['low-M'] == gameboard['low-R'] and gameboard['low-M'] != \" \" or gameboard['mid-M'] == gameboard['top-R'] and gameboard['mid-M'] != \" \" or gameboard['mid-L'] == gameboard['top-L'] and gameboard['mid-L'] != \" \":\n",
    "        candidates.append('low-L')\n",
    "    if gameboard['low-L'] == gameboard['low-R'] and gameboard['low-L'] != \" \" or gameboard['mid-M'] == gameboard['top-M'] and gameboard['mid-M'] != \" \":\n",
    "        candidates.append('low-M')\n",
    "    if gameboard['low-M'] == gameboard['low-L'] and gameboard['low-M'] != \" \" or gameboard['mid-M'] == gameboard['top-L'] and gameboard['mid-M'] != \" \" or gameboard['mid-R'] == gameboard['top-R'] and gameboard['mid-R'] != \" \":\n",
    "        candidates.append('low-R')\n",
    "    print(candidates)\n",
    "    goodmoves = []\n",
    "    for move in candidates:\n",
    "        if gameboard[move] == \" \":\n",
    "            goodmoves.append(move)\n",
    "            \n",
    "    print(goodmoves)\n",
    "    return(goodmoves)\n",
    "    \n"
   ]
  },
  {
   "cell_type": "code",
   "execution_count": 11,
   "metadata": {},
   "outputs": [
    {
     "name": "stdout",
     "output_type": "stream",
     "text": [
      "Hi! What is your name?\n"
     ]
    },
    {
     "name": "stdin",
     "output_type": "stream",
     "text": [
      " Ed\n"
     ]
    },
    {
     "name": "stdout",
     "output_type": "stream",
     "text": [
      "Lets play noughts and crosses. Pick a token, X or O.\n"
     ]
    },
    {
     "name": "stdin",
     "output_type": "stream",
     "text": [
      " X\n"
     ]
    },
    {
     "name": "stdout",
     "output_type": "stream",
     "text": [
      "\n",
      "OK. Nice choice.\n",
      "...\n",
      "Let's get this game started!\n",
      "\n",
      "   |   |   \n",
      "-----------\n",
      "   |   |   \n",
      "-----------\n",
      "   |   |   \n",
      "\n",
      "I will go first.\n",
      "\n",
      "\n",
      "My go...\n",
      "\n",
      "[]\n",
      "[]\n",
      "[]\n",
      "   | O |   \n",
      "-----------\n",
      "   |   |   \n",
      "-----------\n",
      "   |   |   \n",
      "\n",
      "Your go...\n",
      "\n",
      "Where would you like to go? ('top-', 'mid-', 'low-' with 'L', 'M' or 'R')\n"
     ]
    },
    {
     "name": "stdin",
     "output_type": "stream",
     "text": [
      " low-R\n"
     ]
    },
    {
     "name": "stdout",
     "output_type": "stream",
     "text": [
      "   | O |   \n",
      "-----------\n",
      "   |   |   \n",
      "-----------\n",
      "   |   | X \n",
      "\n",
      "My go...\n",
      "\n",
      "[]\n",
      "[]\n",
      "[]\n",
      " O | O |   \n",
      "-----------\n",
      "   |   |   \n",
      "-----------\n",
      "   |   | X \n",
      "\n",
      "Your go...\n",
      "\n",
      "Where would you like to go? ('top-', 'mid-', 'low-' with 'L', 'M' or 'R')\n"
     ]
    },
    {
     "name": "stdin",
     "output_type": "stream",
     "text": [
      " top-R\n"
     ]
    },
    {
     "name": "stdout",
     "output_type": "stream",
     "text": [
      " O | O | X \n",
      "-----------\n",
      "   |   |   \n",
      "-----------\n",
      "   |   | X \n",
      "\n",
      "My go...\n",
      "\n",
      "['top-R', 'mid-R']\n",
      "['mid-R']\n",
      "['mid-R']\n",
      " O | O | X \n",
      "-----------\n",
      "   |   | O \n",
      "-----------\n",
      "   |   | X \n",
      "\n",
      "Your go...\n",
      "\n",
      "Where would you like to go? ('top-', 'mid-', 'low-' with 'L', 'M' or 'R')\n"
     ]
    },
    {
     "name": "stdin",
     "output_type": "stream",
     "text": [
      " low-L\n"
     ]
    },
    {
     "name": "stdout",
     "output_type": "stream",
     "text": [
      " O | O | X \n",
      "-----------\n",
      "   |   | O \n",
      "-----------\n",
      " X |   | X \n",
      "\n",
      "My go...\n",
      "\n",
      "['top-R', 'mid-M', 'mid-R', 'low-M']\n",
      "['mid-M', 'low-M']\n",
      "['mid-M', 'low-M']\n",
      " O | O | X \n",
      "-----------\n",
      "   | O | O \n",
      "-----------\n",
      " X |   | X \n",
      "\n",
      "Your go...\n",
      "\n",
      "Where would you like to go? ('top-', 'mid-', 'low-' with 'L', 'M' or 'R')\n"
     ]
    },
    {
     "name": "stdin",
     "output_type": "stream",
     "text": [
      " low-M\n"
     ]
    },
    {
     "name": "stdout",
     "output_type": "stream",
     "text": [
      " O | O | X \n",
      "-----------\n",
      "   | O | O \n",
      "-----------\n",
      " X | X | X \n",
      "Congratulations Ed. Maybe we can play again?\n",
      "We have played 1 games.\n",
      "The current score is: You 1 - 0 Me\n",
      "Play again? (yes/no)\n"
     ]
    },
    {
     "name": "stdin",
     "output_type": "stream",
     "text": [
      " y\n"
     ]
    },
    {
     "name": "stdout",
     "output_type": "stream",
     "text": [
      "Lets play noughts and crosses. Pick a token, X or O.\n"
     ]
    },
    {
     "name": "stdin",
     "output_type": "stream",
     "text": [
      " o\n"
     ]
    },
    {
     "name": "stdout",
     "output_type": "stream",
     "text": [
      "\n",
      "OK. Nice choice.\n",
      "...\n",
      "Let's get this game started!\n",
      "\n",
      "   |   |   \n",
      "-----------\n",
      "   |   |   \n",
      "-----------\n",
      "   |   |   \n",
      "\n",
      "You go first.\n",
      "\n",
      "\n",
      "Your go...\n",
      "\n",
      "Where would you like to go? ('top-', 'mid-', 'low-' with 'L', 'M' or 'R')\n"
     ]
    },
    {
     "name": "stdin",
     "output_type": "stream",
     "text": [
      " top-L\n"
     ]
    },
    {
     "name": "stdout",
     "output_type": "stream",
     "text": [
      " O |   |   \n",
      "-----------\n",
      "   |   |   \n",
      "-----------\n",
      "   |   |   \n",
      "\n",
      "My go...\n",
      "\n",
      "[]\n",
      "[]\n",
      "[]\n",
      " O |   |   \n",
      "-----------\n",
      "   |   |   \n",
      "-----------\n",
      "   | X |   \n",
      "\n",
      "Your go...\n",
      "\n",
      "Where would you like to go? ('top-', 'mid-', 'low-' with 'L', 'M' or 'R')\n"
     ]
    },
    {
     "name": "stdin",
     "output_type": "stream",
     "text": [
      " top-R\n"
     ]
    },
    {
     "name": "stdout",
     "output_type": "stream",
     "text": [
      " O |   | O \n",
      "-----------\n",
      "   |   |   \n",
      "-----------\n",
      "   | X |   \n",
      "\n",
      "My go...\n",
      "\n",
      "['top-M']\n",
      "['top-M']\n",
      "['top-M']\n",
      " O | X | O \n",
      "-----------\n",
      "   |   |   \n",
      "-----------\n",
      "   | X |   \n",
      "\n",
      "Your go...\n",
      "\n",
      "Where would you like to go? ('top-', 'mid-', 'low-' with 'L', 'M' or 'R')\n"
     ]
    },
    {
     "name": "stdin",
     "output_type": "stream",
     "text": [
      " low-R\n"
     ]
    },
    {
     "name": "stdout",
     "output_type": "stream",
     "text": [
      " O | X | O \n",
      "-----------\n",
      "   |   |   \n",
      "-----------\n",
      "   | X | O \n",
      "\n",
      "My go...\n",
      "\n",
      "['top-M', 'mid-M', 'mid-R']\n",
      "['mid-M', 'mid-R']\n",
      "['mid-M', 'mid-R']\n",
      " O | X | O \n",
      "-----------\n",
      "   | X |   \n",
      "-----------\n",
      "   | X | O \n",
      "I won. Suck it!\n",
      "We have played 2 games.\n",
      "The current score is: You 1 - 1 Me\n",
      "Play again? (yes/no)\n"
     ]
    },
    {
     "name": "stdin",
     "output_type": "stream",
     "text": [
      " n\n"
     ]
    },
    {
     "name": "stdout",
     "output_type": "stream",
     "text": [
      "OK. It was nice playing with you. See you next time!\n"
     ]
    }
   ],
   "source": [
    "greeter()"
   ]
  },
  {
   "cell_type": "code",
   "execution_count": null,
   "metadata": {},
   "outputs": [],
   "source": []
  }
 ],
 "metadata": {
  "kernelspec": {
   "display_name": "Python 3",
   "language": "python",
   "name": "python3"
  },
  "language_info": {
   "codemirror_mode": {
    "name": "ipython",
    "version": 3
   },
   "file_extension": ".py",
   "mimetype": "text/x-python",
   "name": "python",
   "nbconvert_exporter": "python",
   "pygments_lexer": "ipython3",
   "version": "3.6.5"
  }
 },
 "nbformat": 4,
 "nbformat_minor": 4
}
