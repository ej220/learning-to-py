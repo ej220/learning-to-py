{
 "cells": [
  {
   "cell_type": "code",
   "execution_count": 9,
   "metadata": {},
   "outputs": [],
   "source": [
    "class person:\n",
    "    def __init__(pool, name, age):\n",
    "        pool.name = name\n",
    "        pool.age = age\n",
    "    \n",
    "    def myfunc(grange):\n",
    "        print(\"Hello my name is \" + grange.name)\n",
    "        \n",
    "p1 = person(\"Ed\", 30)\n",
    "p2 = person(\"Roo\", 38)\n",
    "p3 = person(\"Billy\", 7)"
   ]
  },
  {
   "cell_type": "code",
   "execution_count": 10,
   "metadata": {},
   "outputs": [
    {
     "name": "stdout",
     "output_type": "stream",
     "text": [
      "Hello my name is Billy\n"
     ]
    }
   ],
   "source": [
    "p3.myfunc()"
   ]
  },
  {
   "cell_type": "code",
   "execution_count": null,
   "metadata": {},
   "outputs": [],
   "source": [
    "class volunteer:\n",
    "    def __init__(self, sample_id, column1, column2):\n",
    "        self.sample_id ="
   ]
  }
 ],
 "metadata": {
  "kernelspec": {
   "display_name": "Python 3",
   "language": "python",
   "name": "python3"
  },
  "language_info": {
   "codemirror_mode": {
    "name": "ipython",
    "version": 3
   },
   "file_extension": ".py",
   "mimetype": "text/x-python",
   "name": "python",
   "nbconvert_exporter": "python",
   "pygments_lexer": "ipython3",
   "version": "3.6.5"
  }
 },
 "nbformat": 4,
 "nbformat_minor": 4
}
