{
 "cells": [
  {
   "cell_type": "code",
   "execution_count": 3,
   "metadata": {},
   "outputs": [
    {
     "name": "stdout",
     "output_type": "stream",
     "text": [
      "Hi there! What is your name?\n"
     ]
    },
    {
     "name": "stdin",
     "output_type": "stream",
     "text": [
      " Ed\n"
     ]
    },
    {
     "name": "stdout",
     "output_type": "stream",
     "text": [
      "Nice to meet you, Ed. Lets play a game of hangman.\n",
      "I am thinking of a word. It is 9 letters long.\n",
      "_________\n",
      "Take a guess at a letter....\n"
     ]
    },
    {
     "name": "stdin",
     "output_type": "stream",
     "text": [
      " e\n"
     ]
    },
    {
     "name": "stdout",
     "output_type": "stream",
     "text": [
      "Tough luck, try again!\n",
      "You have guessed the letters e, \n",
      "You have 9 lives left.\n",
      "\n",
      "\n",
      "_________\n",
      "                \n",
      "                \n",
      "                \n",
      "                \n",
      "                \n",
      "                \n",
      "  _____________ \n",
      " /            /|\n",
      "/____________/ /\n",
      "|____________|/ \n",
      "\n",
      "Take a guess at a letter....\n"
     ]
    },
    {
     "name": "stdin",
     "output_type": "stream",
     "text": [
      " a\n"
     ]
    },
    {
     "name": "stdout",
     "output_type": "stream",
     "text": [
      "Tough luck, try again!\n",
      "You have guessed the letters e, a, \n",
      "You have 8 lives left.\n",
      "\n",
      "\n",
      "_________\n",
      "                \n",
      "                \n",
      "    |           \n",
      "    |           \n",
      "    |           \n",
      "    |           \n",
      "  __|__________ \n",
      " /  |         /|\n",
      "/____________/ /\n",
      "|____________|/ \n",
      "\n",
      "Take a guess at a letter....\n"
     ]
    },
    {
     "name": "stdin",
     "output_type": "stream",
     "text": [
      " i\n"
     ]
    },
    {
     "name": "stdout",
     "output_type": "stream",
     "text": [
      "Good guess, you've got 1 out of 9 letters correct.\n",
      "You have guessed the letters e, a, i, \n",
      "You have 8 lives left.\n",
      "\n",
      "\n",
      "______i__\n",
      "                \n",
      "                \n",
      "    |           \n",
      "    |           \n",
      "    |           \n",
      "    |           \n",
      "  __|__________ \n",
      " /  |         /|\n",
      "/____________/ /\n",
      "|____________|/ \n",
      "\n",
      "Take a guess at a letter....\n"
     ]
    },
    {
     "name": "stdin",
     "output_type": "stream",
     "text": [
      " o\n"
     ]
    },
    {
     "name": "stdout",
     "output_type": "stream",
     "text": [
      "Good guess, you've got 2 out of 9 letters correct.\n",
      "You have guessed the letters e, a, i, o, \n",
      "You have 8 lives left.\n",
      "\n",
      "\n",
      "__o___i__\n",
      "                \n",
      "                \n",
      "    |           \n",
      "    |           \n",
      "    |           \n",
      "    |           \n",
      "  __|__________ \n",
      " /  |         /|\n",
      "/____________/ /\n",
      "|____________|/ \n",
      "\n",
      "Take a guess at a letter....\n"
     ]
    },
    {
     "name": "stdin",
     "output_type": "stream",
     "text": [
      " i\n"
     ]
    },
    {
     "name": "stdout",
     "output_type": "stream",
     "text": [
      "You have already that letter, try again.\n"
     ]
    },
    {
     "name": "stdin",
     "output_type": "stream",
     "text": [
      " r\n"
     ]
    },
    {
     "name": "stdout",
     "output_type": "stream",
     "text": [
      "Good guess, you've got 3 out of 9 letters correct.\n",
      "You have guessed the letters e, a, i, o, r, \n",
      "You have 8 lives left.\n",
      "\n",
      "\n",
      "__o__ri__\n",
      "                \n",
      "                \n",
      "    |           \n",
      "    |           \n",
      "    |           \n",
      "    |           \n",
      "  __|__________ \n",
      " /  |         /|\n",
      "/____________/ /\n",
      "|____________|/ \n",
      "\n",
      "Take a guess at a letter....\n"
     ]
    },
    {
     "name": "stdin",
     "output_type": "stream",
     "text": [
      " t\n"
     ]
    },
    {
     "name": "stdout",
     "output_type": "stream",
     "text": [
      "Good guess, you've got 4 out of 9 letters correct.\n",
      "You have guessed the letters e, a, i, o, r, t, \n",
      "You have 8 lives left.\n",
      "\n",
      "\n",
      "__o__ri_t\n",
      "                \n",
      "                \n",
      "    |           \n",
      "    |           \n",
      "    |           \n",
      "    |           \n",
      "  __|__________ \n",
      " /  |         /|\n",
      "/____________/ /\n",
      "|____________|/ \n",
      "\n",
      "Take a guess at a letter....\n"
     ]
    },
    {
     "name": "stdin",
     "output_type": "stream",
     "text": [
      " s\n"
     ]
    },
    {
     "name": "stdout",
     "output_type": "stream",
     "text": [
      "Good guess, you've got 5 out of 9 letters correct.\n",
      "You have guessed the letters e, a, i, o, r, t, s, \n",
      "You have 8 lives left.\n",
      "\n",
      "\n",
      "s_o__ri_t\n",
      "                \n",
      "                \n",
      "    |           \n",
      "    |           \n",
      "    |           \n",
      "    |           \n",
      "  __|__________ \n",
      " /  |         /|\n",
      "/____________/ /\n",
      "|____________|/ \n",
      "\n",
      "Take a guess at a letter....\n"
     ]
    },
    {
     "name": "stdin",
     "output_type": "stream",
     "text": [
      " d\n"
     ]
    },
    {
     "name": "stdout",
     "output_type": "stream",
     "text": [
      "Tough luck, try again!\n",
      "You have guessed the letters e, a, i, o, r, t, s, d, \n",
      "You have 7 lives left.\n",
      "\n",
      "\n",
      "s_o__ri_t\n",
      "                \n",
      "    ________    \n",
      "    |           \n",
      "    |           \n",
      "    |           \n",
      "    |           \n",
      "  __|__________ \n",
      " /  |         /|\n",
      "/____________/ /\n",
      "|____________|/ \n",
      "\n",
      "Take a guess at a letter....\n"
     ]
    },
    {
     "name": "stdin",
     "output_type": "stream",
     "text": [
      " l\n"
     ]
    },
    {
     "name": "stdout",
     "output_type": "stream",
     "text": [
      "Tough luck, try again!\n",
      "You have guessed the letters e, a, i, o, r, t, s, d, l, \n",
      "You have 6 lives left.\n",
      "\n",
      "\n",
      "s_o__ri_t\n",
      "                \n",
      "    ________    \n",
      "    |      |    \n",
      "    |           \n",
      "    |           \n",
      "    |           \n",
      "  __|__________ \n",
      " /  |         /|\n",
      "/____________/ /\n",
      "|____________|/ \n",
      "\n",
      "Take a guess at a letter....\n"
     ]
    },
    {
     "name": "stdin",
     "output_type": "stream",
     "text": [
      " n\n"
     ]
    },
    {
     "name": "stdout",
     "output_type": "stream",
     "text": [
      "Tough luck, try again!\n",
      "You have guessed the letters e, a, i, o, r, t, s, d, l, n, \n",
      "You have 5 lives left.\n",
      "\n",
      "\n",
      "s_o__ri_t\n",
      "                \n",
      "    ________    \n",
      "    |      |    \n",
      "    |      @    \n",
      "    |           \n",
      "    |           \n",
      "  __|__________ \n",
      " /  |         /|\n",
      "/____________/ /\n",
      "|____________|/ \n",
      "\n",
      "Take a guess at a letter....\n"
     ]
    },
    {
     "name": "stdin",
     "output_type": "stream",
     "text": [
      " m\n"
     ]
    },
    {
     "name": "stdout",
     "output_type": "stream",
     "text": [
      "Tough luck, try again!\n",
      "You have guessed the letters e, a, i, o, r, t, s, d, l, n, m, \n",
      "You have 4 lives left.\n",
      "\n",
      "\n",
      "s_o__ri_t\n",
      "                \n",
      "    ________    \n",
      "    |      |    \n",
      "    |      @    \n",
      "    |      |    \n",
      "    |           \n",
      "  __|__________ \n",
      " /  |         /|\n",
      "/____________/ /\n",
      "|____________|/ \n",
      "\n",
      "Take a guess at a letter....\n"
     ]
    },
    {
     "name": "stdin",
     "output_type": "stream",
     "text": [
      " g\n"
     ]
    },
    {
     "name": "stdout",
     "output_type": "stream",
     "text": [
      "Good guess, you've got 6 out of 9 letters correct.\n",
      "You have guessed the letters e, a, i, o, r, t, s, d, l, n, m, g, \n",
      "You have 4 lives left.\n",
      "\n",
      "\n",
      "s_o_gri_t\n",
      "                \n",
      "    ________    \n",
      "    |      |    \n",
      "    |      @    \n",
      "    |      |    \n",
      "    |           \n",
      "  __|__________ \n",
      " /  |         /|\n",
      "/____________/ /\n",
      "|____________|/ \n",
      "\n",
      "Take a guess at a letter....\n"
     ]
    },
    {
     "name": "stdin",
     "output_type": "stream",
     "text": [
      " h\n"
     ]
    },
    {
     "name": "stdout",
     "output_type": "stream",
     "text": [
      "Good guess, you've got 7 out of 9 letters correct.\n",
      "You have guessed the letters e, a, i, o, r, t, s, d, l, n, m, g, h, \n",
      "You have 4 lives left.\n",
      "\n",
      "\n",
      "sho_gri_t\n",
      "                \n",
      "    ________    \n",
      "    |      |    \n",
      "    |      @    \n",
      "    |      |    \n",
      "    |           \n",
      "  __|__________ \n",
      " /  |         /|\n",
      "/____________/ /\n",
      "|____________|/ \n",
      "\n",
      "Take a guess at a letter....\n"
     ]
    },
    {
     "name": "stdin",
     "output_type": "stream",
     "text": [
      " p\n"
     ]
    },
    {
     "name": "stdout",
     "output_type": "stream",
     "text": [
      "Good guess, you've got 8 out of 9 letters correct.\n",
      "You have guessed the letters e, a, i, o, r, t, s, d, l, n, m, g, h, p, \n",
      "You have 4 lives left.\n",
      "\n",
      "\n",
      "shopgri_t\n",
      "                \n",
      "    ________    \n",
      "    |      |    \n",
      "    |      @    \n",
      "    |      |    \n",
      "    |           \n",
      "  __|__________ \n",
      " /  |         /|\n",
      "/____________/ /\n",
      "|____________|/ \n",
      "\n",
      "Take a guess at a letter....\n"
     ]
    },
    {
     "name": "stdin",
     "output_type": "stream",
     "text": [
      " f\n"
     ]
    },
    {
     "name": "stdout",
     "output_type": "stream",
     "text": [
      "Good guess, you've got 9 out of 9 letters correct.\n",
      "You have guessed the letters e, a, i, o, r, t, s, d, l, n, m, g, h, p, f, \n",
      "You have 4 lives left.\n",
      "\n",
      "\n",
      "shopgrift\n",
      "                \n",
      "    ________    \n",
      "    |      |    \n",
      "    |      @    \n",
      "    |      |    \n",
      "    |           \n",
      "  __|__________ \n",
      " /  |         /|\n",
      "/____________/ /\n",
      "|____________|/ \n",
      "\n",
      "Congratulations!\n",
      "You won the game!\n"
     ]
    }
   ],
   "source": [
    "#!/bin/python3.8\n",
    "\n",
    "# This script is a game of Hangman, written in Python\n",
    "from random_word import RandomWords\n",
    "import string\n",
    "#letters = string.ascii_lowercase + string.ascii_uppercase\n",
    "r = RandomWords()\n",
    "\n",
    "def func_wordGet():\n",
    "    while True:\n",
    "        word = r.get_random_word()\n",
    "        for char in word:\n",
    "            if char.isalpha() == False:\n",
    "                Letters = False\n",
    "            else:\n",
    "                Letters = True\n",
    "        if Letters == True:\n",
    "            word = word.lower()\n",
    "            break\n",
    "    return (word)  \n",
    "\n",
    "Guesses = \"\"\n",
    "def func_guess():\n",
    "    global Guesses\n",
    "    while True:\n",
    "        goodGuess = True\n",
    "        guess = input()\n",
    "        if len(guess) == 1:\n",
    "            for char in guess:\n",
    "                if char.isalpha() == False or char == \" \":\n",
    "                    print(\"Letters only please.\")\n",
    "                    goodGuess = False\n",
    "                if char in Guesses:\n",
    "                    print(\"You have already that letter, try again.\")\n",
    "                    goodGuess = False\n",
    "        else:\n",
    "            print(\"One letter at a time please.\")\n",
    "            goodGuess = False\n",
    "        guess = guess.lower()\n",
    "        if goodGuess != False:\n",
    "            Guesses = Guesses + guess + \", \"\n",
    "            break\n",
    "    return (guess)\n",
    "\n",
    "def hang (i):\n",
    "    if i == 0:\n",
    "        print(\"\")\n",
    "    \n",
    "    elif i == 1:\n",
    "        print(\"                \")\n",
    "        print(\"                \")\n",
    "        print(\"                \")\n",
    "        print(\"                \")\n",
    "        print(\"                \")\n",
    "        print(\"                \")\n",
    "        print(\"  _____________ \")\n",
    "        print(\" /            /|\")\n",
    "        print(\"/____________/ /\")\n",
    "        print(\"|____________|/ \") \n",
    "    \n",
    "    elif i == 2:\n",
    "        print(\"                \")\n",
    "        print(\"                \")\n",
    "        print(\"    |           \")\n",
    "        print(\"    |           \")\n",
    "        print(\"    |           \")\n",
    "        print(\"    |           \")\n",
    "        print(\"  __|__________ \")\n",
    "        print(\" /  |         /|\")\n",
    "        print(\"/____________/ /\")\n",
    "        print(\"|____________|/ \") \n",
    "    \n",
    "    elif i == 3:\n",
    "        print(\"                \")\n",
    "        print(\"    ________    \")\n",
    "        print(\"    |           \")\n",
    "        print(\"    |           \")\n",
    "        print(\"    |           \")\n",
    "        print(\"    |           \")\n",
    "        print(\"  __|__________ \")\n",
    "        print(\" /  |         /|\")\n",
    "        print(\"/____________/ /\")\n",
    "        print(\"|____________|/ \") \n",
    "    \n",
    "    elif i == 4:\n",
    "        print(\"                \")\n",
    "        print(\"    ________    \")\n",
    "        print(\"    |      |    \")\n",
    "        print(\"    |           \")\n",
    "        print(\"    |           \")\n",
    "        print(\"    |           \")\n",
    "        print(\"  __|__________ \")\n",
    "        print(\" /  |         /|\")\n",
    "        print(\"/____________/ /\")\n",
    "        print(\"|____________|/ \") \n",
    "        \n",
    "    elif i == 5:\n",
    "        print(\"                \")\n",
    "        print(\"    ________    \")\n",
    "        print(\"    |      |    \")\n",
    "        print(\"    |      @    \")\n",
    "        print(\"    |           \")\n",
    "        print(\"    |           \")\n",
    "        print(\"  __|__________ \")\n",
    "        print(\" /  |         /|\")\n",
    "        print(\"/____________/ /\")\n",
    "        print(\"|____________|/ \") \n",
    "        \n",
    "    elif i == 6:\n",
    "        print(\"                \")\n",
    "        print(\"    ________    \")\n",
    "        print(\"    |      |    \")\n",
    "        print(\"    |      @    \")\n",
    "        print(\"    |      |    \")\n",
    "        print(\"    |           \")\n",
    "        print(\"  __|__________ \")\n",
    "        print(\" /  |         /|\")\n",
    "        print(\"/____________/ /\")\n",
    "        print(\"|____________|/ \") \n",
    "    \n",
    "    elif i == 7:\n",
    "        print(\"                \")\n",
    "        print(\"    ________    \")\n",
    "        print(\"    |      |    \")\n",
    "        print(\"    |      @    \")\n",
    "        print(\"    |     /|    \")\n",
    "        print(\"    |           \")\n",
    "        print(\"  __|__________ \")\n",
    "        print(\" /  |         /|\")\n",
    "        print(\"/____________/ /\")\n",
    "        print(\"|____________|/ \") \n",
    "    \n",
    "    elif i == 8:\n",
    "        print(\"                \")\n",
    "        print(\"    ________    \")\n",
    "        print(\"    |      |    \")\n",
    "        print(\"    |      @    \")\n",
    "        print(\"    |     /|\\   \")\n",
    "        print(\"    |           \")\n",
    "        print(\"  __|__________ \")\n",
    "        print(\" /  |         /|\")\n",
    "        print(\"/____________/ /\")\n",
    "        print(\"|____________|/ \") \n",
    "    \n",
    "    elif i == 9:\n",
    "        print(\"                \")\n",
    "        print(\"    ________    \")\n",
    "        print(\"    |      |    \")\n",
    "        print(\"    |      @    \")\n",
    "        print(\"    |     /|\\   \")\n",
    "        print(\"    |     /     \")\n",
    "        print(\"  __|__________ \")\n",
    "        print(\" /  |         /|\")\n",
    "        print(\"/____________/ /\")\n",
    "        print(\"|____________|/ \") \n",
    "        \n",
    "    elif i == 10:\n",
    "        print(\"                \")\n",
    "        print(\"    ________    \")\n",
    "        print(\"    |      |    \")\n",
    "        print(\"    |      @    \")\n",
    "        print(\"    |     /|\\   \")\n",
    "        print(\"    |     / \\   \")\n",
    "        print(\"  __|__________ \")\n",
    "        print(\" /  |         /|\")\n",
    "        print(\"/____________/ /\")\n",
    "        print(\"|____________|/ \") \n",
    "    \n",
    "    return\n",
    "\n",
    "print(\"Hi there! What is your name?\")\n",
    "name = input()\n",
    "print(\"Nice to meet you, \" + name + \". Lets play a game of hangman.\")\n",
    "word = func_wordGet()\n",
    "print(\"I am thinking of a word. It is \" + str(len(word)) + \" letters long.\" )\n",
    "clue = len(word) * \"_\"\n",
    "print(clue)\n",
    "\n",
    "BadGuesses = 0\n",
    "GoodGuesses = 0\n",
    "Guesses = \"\"\n",
    "\n",
    "while BadGuesses < 10:\n",
    "    print(\"Take a guess at a letter....\")\n",
    "    guess = func_guess()\n",
    "    let = []\n",
    "    goodGuess = False\n",
    "\n",
    "    for l in range(len(word)):\n",
    "        if guess == word[l]:\n",
    "            goodGuess = True\n",
    "            GoodGuesses = GoodGuesses + 1\n",
    "            let.append(l)\n",
    "\n",
    "    if goodGuess != True:\n",
    "        print(\"Tough luck, try again!\")\n",
    "        BadGuesses = BadGuesses + 1\n",
    "    else:\n",
    "        print(\"Good guess, you've got \" + str(GoodGuesses) + \" out of \" + str(len(word)) + \" letters correct.\")\n",
    "        for i in let:\n",
    "            newclue = clue[:(i)] + guess + clue[(i+1):]\n",
    "            clue = newclue\n",
    "\n",
    "    \n",
    "    print(\"You have guessed the letters \" + Guesses)\n",
    "    print(\"You have \" + str(10 - BadGuesses) + \" lives left.\")\n",
    "    print(\"\")\n",
    "    print(\"\")\n",
    "    print(clue)\n",
    "    hang(BadGuesses)\n",
    "    print(\"\")\n",
    "    if GoodGuesses == len(word):\n",
    "        break\n",
    "\n",
    "if BadGuesses == 10:\n",
    "    print(\"The word was \" + word)\n",
    "    print(\"Tough luck. Try again next time\")\n",
    "else:\n",
    "    print(\"Congratulations!\")\n",
    "    print(\"You won the game!\")\n"
   ]
  },
  {
   "cell_type": "code",
   "execution_count": null,
   "metadata": {},
   "outputs": [],
   "source": []
  }
 ],
 "metadata": {
  "kernelspec": {
   "display_name": "Python 3",
   "language": "python",
   "name": "python3"
  },
  "language_info": {
   "codemirror_mode": {
    "name": "ipython",
    "version": 3
   },
   "file_extension": ".py",
   "mimetype": "text/x-python",
   "name": "python",
   "nbconvert_exporter": "python",
   "pygments_lexer": "ipython3",
   "version": "3.6.5"
  }
 },
 "nbformat": 4,
 "nbformat_minor": 4
}
