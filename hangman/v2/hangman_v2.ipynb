{
 "cells": [
  {
   "cell_type": "code",
   "execution_count": 17,
   "metadata": {},
   "outputs": [
    {
     "name": "stdout",
     "output_type": "stream",
     "text": [
      "Hi! What is your name?\n"
     ]
    },
    {
     "name": "stdin",
     "output_type": "stream",
     "text": [
      " Ed\n"
     ]
    },
    {
     "name": "stdout",
     "output_type": "stream",
     "text": [
      "Lets play Hangman.\n",
      "\n",
      "I'm thinking of a word...\n",
      "\n",
      "Got one!\n",
      "\n",
      "Let's play!\n",
      "\n",
      "\n",
      "_______\n",
      "\n",
      "Take a guess at a letter....\n",
      "\n"
     ]
    },
    {
     "name": "stdin",
     "output_type": "stream",
     "text": [
      " a\n"
     ]
    },
    {
     "name": "stdout",
     "output_type": "stream",
     "text": [
      "Good guess, you've got 2 out of 7 letters correct.\n",
      "You have guessed the letters, a\n",
      "You have 10 lives left.\n",
      "\n",
      "\n",
      "___a__a\n",
      "\n",
      "\n",
      "\n",
      "Take a guess at a letter....\n",
      "\n"
     ]
    },
    {
     "name": "stdin",
     "output_type": "stream",
     "text": [
      " e\n"
     ]
    },
    {
     "name": "stdout",
     "output_type": "stream",
     "text": [
      "Tough luck, try again!\n",
      "You have guessed the letters, a, e\n",
      "You have 9 lives left.\n",
      "\n",
      "\n",
      "___a__a\n",
      "                \n",
      "                \n",
      "                \n",
      "                \n",
      "                \n",
      "                \n",
      "  _____________ \n",
      " /            /|\n",
      "/____________/ /\n",
      "|____________|/ \n",
      "\n",
      "\n",
      "Take a guess at a letter....\n",
      "\n"
     ]
    },
    {
     "name": "stdin",
     "output_type": "stream",
     "text": [
      " i\n"
     ]
    },
    {
     "name": "stdout",
     "output_type": "stream",
     "text": [
      "Tough luck, try again!\n",
      "You have guessed the letters, a, e, i\n",
      "You have 8 lives left.\n",
      "\n",
      "\n",
      "___a__a\n",
      "                \n",
      "                \n",
      "    |           \n",
      "    |           \n",
      "    |           \n",
      "    |           \n",
      "  __|__________ \n",
      " /  |         /|\n",
      "/____________/ /\n",
      "|____________|/ \n",
      "\n",
      "\n",
      "Take a guess at a letter....\n",
      "\n"
     ]
    },
    {
     "name": "stdin",
     "output_type": "stream",
     "text": [
      " o\n"
     ]
    },
    {
     "name": "stdout",
     "output_type": "stream",
     "text": [
      "Tough luck, try again!\n",
      "You have guessed the letters, a, e, i, o\n",
      "You have 7 lives left.\n",
      "\n",
      "\n",
      "___a__a\n",
      "                \n",
      "    ________    \n",
      "    |           \n",
      "    |           \n",
      "    |           \n",
      "    |           \n",
      "  __|__________ \n",
      " /  |         /|\n",
      "/____________/ /\n",
      "|____________|/ \n",
      "\n",
      "\n",
      "Take a guess at a letter....\n",
      "\n"
     ]
    },
    {
     "name": "stdin",
     "output_type": "stream",
     "text": [
      " u\n"
     ]
    },
    {
     "name": "stdout",
     "output_type": "stream",
     "text": [
      "Tough luck, try again!\n",
      "You have guessed the letters, a, e, i, o, u\n",
      "You have 6 lives left.\n",
      "\n",
      "\n",
      "___a__a\n",
      "                \n",
      "    ________    \n",
      "    |      |    \n",
      "    |           \n",
      "    |           \n",
      "    |           \n",
      "  __|__________ \n",
      " /  |         /|\n",
      "/____________/ /\n",
      "|____________|/ \n",
      "\n",
      "\n",
      "Take a guess at a letter....\n",
      "\n"
     ]
    },
    {
     "name": "stdin",
     "output_type": "stream",
     "text": [
      " r\n"
     ]
    },
    {
     "name": "stdout",
     "output_type": "stream",
     "text": [
      "Tough luck, try again!\n",
      "You have guessed the letters, a, e, i, o, u, r\n",
      "You have 5 lives left.\n",
      "\n",
      "\n",
      "___a__a\n",
      "                \n",
      "    ________    \n",
      "    |      |    \n",
      "    |      @    \n",
      "    |           \n",
      "    |           \n",
      "  __|__________ \n",
      " /  |         /|\n",
      "/____________/ /\n",
      "|____________|/ \n",
      "\n",
      "\n",
      "Take a guess at a letter....\n",
      "\n"
     ]
    },
    {
     "name": "stdin",
     "output_type": "stream",
     "text": [
      " s\n"
     ]
    },
    {
     "name": "stdout",
     "output_type": "stream",
     "text": [
      "Tough luck, try again!\n",
      "You have guessed the letters, a, e, i, o, u, r, s\n",
      "You have 4 lives left.\n",
      "\n",
      "\n",
      "___a__a\n",
      "                \n",
      "    ________    \n",
      "    |      |    \n",
      "    |      @    \n",
      "    |      |    \n",
      "    |           \n",
      "  __|__________ \n",
      " /  |         /|\n",
      "/____________/ /\n",
      "|____________|/ \n",
      "\n",
      "\n",
      "Take a guess at a letter....\n",
      "\n"
     ]
    },
    {
     "name": "stdin",
     "output_type": "stream",
     "text": [
      " l\n"
     ]
    },
    {
     "name": "stdout",
     "output_type": "stream",
     "text": [
      "Good guess, you've got 3 out of 7 letters correct.\n",
      "You have guessed the letters, a, e, i, o, u, r, s, l\n",
      "You have 4 lives left.\n",
      "\n",
      "\n",
      "__la__a\n",
      "                \n",
      "    ________    \n",
      "    |      |    \n",
      "    |      @    \n",
      "    |      |    \n",
      "    |           \n",
      "  __|__________ \n",
      " /  |         /|\n",
      "/____________/ /\n",
      "|____________|/ \n",
      "\n",
      "\n",
      "Take a guess at a letter....\n",
      "\n"
     ]
    },
    {
     "name": "stdin",
     "output_type": "stream",
     "text": [
      " \n"
     ]
    },
    {
     "name": "stdout",
     "output_type": "stream",
     "text": [
      "Please guess a single letter.\n"
     ]
    },
    {
     "name": "stdin",
     "output_type": "stream",
     "text": [
      " t\n"
     ]
    },
    {
     "name": "stdout",
     "output_type": "stream",
     "text": [
      "Good guess, you've got 4 out of 7 letters correct.\n",
      "You have guessed the letters, a, e, i, o, u, r, s, l, t\n",
      "You have 4 lives left.\n",
      "\n",
      "\n",
      "__la_ta\n",
      "                \n",
      "    ________    \n",
      "    |      |    \n",
      "    |      @    \n",
      "    |      |    \n",
      "    |           \n",
      "  __|__________ \n",
      " /  |         /|\n",
      "/____________/ /\n",
      "|____________|/ \n",
      "\n",
      "\n",
      "Take a guess at a letter....\n",
      "\n"
     ]
    },
    {
     "name": "stdin",
     "output_type": "stream",
     "text": [
      " n\n"
     ]
    },
    {
     "name": "stdout",
     "output_type": "stream",
     "text": [
      "Good guess, you've got 5 out of 7 letters correct.\n",
      "You have guessed the letters, a, e, i, o, u, r, s, l, t, n\n",
      "You have 4 lives left.\n",
      "\n",
      "\n",
      "__lanta\n",
      "                \n",
      "    ________    \n",
      "    |      |    \n",
      "    |      @    \n",
      "    |      |    \n",
      "    |           \n",
      "  __|__________ \n",
      " /  |         /|\n",
      "/____________/ /\n",
      "|____________|/ \n",
      "\n",
      "\n",
      "Take a guess at a letter....\n",
      "\n"
     ]
    },
    {
     "name": "stdin",
     "output_type": "stream",
     "text": [
      " a\n"
     ]
    },
    {
     "name": "stdout",
     "output_type": "stream",
     "text": [
      "You've already guessed the letter a. Try again.\n"
     ]
    },
    {
     "name": "stdin",
     "output_type": "stream",
     "text": [
      " t\n"
     ]
    },
    {
     "name": "stdout",
     "output_type": "stream",
     "text": [
      "You've already guessed the letter t. Try again.\n"
     ]
    },
    {
     "name": "stdin",
     "output_type": "stream",
     "text": [
      " m\n"
     ]
    },
    {
     "name": "stdout",
     "output_type": "stream",
     "text": [
      "Good guess, you've got 6 out of 7 letters correct.\n",
      "You have guessed the letters, a, e, i, o, u, r, s, l, t, n, m\n",
      "You have 4 lives left.\n",
      "\n",
      "\n",
      "m_lanta\n",
      "                \n",
      "    ________    \n",
      "    |      |    \n",
      "    |      @    \n",
      "    |      |    \n",
      "    |           \n",
      "  __|__________ \n",
      " /  |         /|\n",
      "/____________/ /\n",
      "|____________|/ \n",
      "\n",
      "\n",
      "Take a guess at a letter....\n",
      "\n"
     ]
    },
    {
     "name": "stdin",
     "output_type": "stream",
     "text": [
      " y\n"
     ]
    },
    {
     "name": "stdout",
     "output_type": "stream",
     "text": [
      "Good guess, you've got 7 out of 7 letters correct.\n",
      "You have guessed the letters, a, e, i, o, u, r, s, l, t, n, m, y\n",
      "You have 4 lives left.\n",
      "\n",
      "\n",
      "mylanta\n",
      "                \n",
      "    ________    \n",
      "    |      |    \n",
      "    |      @    \n",
      "    |      |    \n",
      "    |           \n",
      "  __|__________ \n",
      " /  |         /|\n",
      "/____________/ /\n",
      "|____________|/ \n",
      "\n",
      "Congratulations, Ed!\n",
      "The word was mylanta.\n",
      "You won!\n",
      "We have played 1 games.\n",
      "\n",
      "You have saved 1 from the noose.\n",
      " The Hangman has claimed 0.\n",
      "\n",
      "Play again? (yes/no)\n"
     ]
    },
    {
     "name": "stdin",
     "output_type": "stream",
     "text": [
      " n\n"
     ]
    },
    {
     "name": "stdout",
     "output_type": "stream",
     "text": [
      "OK. It was nice playing with you. See you next time!\n"
     ]
    }
   ],
   "source": [
    "from random_word import RandomWords\n",
    "import time\n",
    "\n",
    "exec(open('hanged.py').read())\n",
    "\n",
    "def greeter():\n",
    "    print('Hi! What is your name?')\n",
    "    name = input()\n",
    "    gamesplayed = 0\n",
    "    playerwins = 0\n",
    "    print(\"Lets play Hangman.\")\n",
    "    while True:\n",
    "        gamesplayed, playerwins = startgame(name, gamesplayed, playerwins)\n",
    "        print(f'We have played {gamesplayed} games.\\n')\n",
    "        print(f\"You have saved {playerwins} from the noose.\")\n",
    "        print(f\" The Hangman has claimed {gamesplayed - playerwins}.\\n\")\n",
    "        print('Play again? (yes/no)')\n",
    "        if yesno() == False:\n",
    "            break\n",
    "    print('OK. It was nice playing with you. See you next time!')\n",
    "\n",
    "def yesno():\n",
    "    while True:\n",
    "        response = input()\n",
    "        if response[0].lower() not in ['y', 'n']:\n",
    "            print('I am sorry, I did not understand that. Try again please. (yes / no)')\n",
    "        elif response[0].lower() == 'n':\n",
    "            return(False)\n",
    "        else:\n",
    "            return(True)\n",
    "\n",
    "def startgame(name, gamesplayed, playerwins):\n",
    "    gamesplayed += 1\n",
    "    print(\"\\nI'm thinking of a word...\\n\")\n",
    "    time.sleep(1)\n",
    "    word = f_wordget()\n",
    "    print(\"Got one!\\n\")\n",
    "    print(\"Let's play!\\n\\n\")\n",
    "    playerwins = game(name, word, playerwins)\n",
    "    return(gamesplayed, playerwins)\n",
    "\n",
    "def game(name, word, playerwins):\n",
    "    clue = \"_\" * len(word)\n",
    "    print(clue)\n",
    "    guesses = \"\"\n",
    "    badguesses = 0\n",
    "    goodguesses = 0\n",
    "    \n",
    "    while badguesses < 10:\n",
    "        print(\"\\nTake a guess at a letter....\\n\")\n",
    "        guess, guesses = f_guess(guesses)\n",
    "        let = []\n",
    "        goodguess = False\n",
    "\n",
    "        for l in range(len(word)):\n",
    "            if guess == word[l]:\n",
    "                goodguess = True\n",
    "                goodguesses += 1\n",
    "                let.append(l)\n",
    "\n",
    "        if goodguess != True:\n",
    "            print(\"Tough luck, try again!\")\n",
    "            badguesses += 1\n",
    "        else:\n",
    "            print(\"Good guess, you've got \" + str(goodguesses) + \" out of \" + str(len(word)) + \" letters correct.\")\n",
    "            for i in let:\n",
    "                newclue = clue[:(i)] + guess + clue[(i+1):]\n",
    "                clue = newclue\n",
    "\n",
    "    \n",
    "        print(f\"You have guessed the letters{guesses}\")\n",
    "        print(\"You have \" + str(10 - badguesses) + \" lives left.\")\n",
    "        print(\"\")\n",
    "        print(\"\")\n",
    "        print(clue)\n",
    "        hanged(badguesses)\n",
    "        print(\"\")\n",
    "        if goodguesses == len(word):\n",
    "            break\n",
    "    \n",
    "    if badguesses == 10:\n",
    "        print(f\"The word was {word}\\n\")\n",
    "        print(f\"Tough luck, {name}. Try again next time\")\n",
    "    else:\n",
    "        print(f\"Congratulations, {name}!\")\n",
    "        print(f\"The word was {word}.\")\n",
    "        print(\"You won!\")\n",
    "        playerwins += 1\n",
    "    return(playerwins)\n",
    "\n",
    "def f_wordget():\n",
    "    while True:\n",
    "        word = RandomWords().get_random_word()\n",
    "        if f_wordcheck(word) == True:\n",
    "            word = word.lower()\n",
    "            break\n",
    "    return (word) \n",
    "\n",
    "def f_wordcheck(word):\n",
    "    for char in word:\n",
    "        if char.isalpha() != True:\n",
    "            return(False)\n",
    "    return(True)\n",
    "\n",
    "\n",
    "def f_guess(guesses):\n",
    "    while True:\n",
    "        thisguess = input()\n",
    "        if len(thisguess) != 1:\n",
    "            print(\"Please guess a single letter.\")\n",
    "        elif thisguess.isalpha() != True:\n",
    "            print(\"Letters only please.\")\n",
    "        elif thisguess in guesses:\n",
    "            print(f\"You've already guessed the letter {thisguess}. Try again.\")\n",
    "        else:\n",
    "            guess = thisguess.lower()\n",
    "            guesses = guesses + \", \" + guess\n",
    "            break\n",
    "    return(guess, guesses)\n",
    "\n",
    "greeter()"
   ]
  },
  {
   "cell_type": "code",
   "execution_count": null,
   "metadata": {},
   "outputs": [],
   "source": []
  }
 ],
 "metadata": {
  "kernelspec": {
   "display_name": "Python 3",
   "language": "python",
   "name": "python3"
  },
  "language_info": {
   "codemirror_mode": {
    "name": "ipython",
    "version": 3
   },
   "file_extension": ".py",
   "mimetype": "text/x-python",
   "name": "python",
   "nbconvert_exporter": "python",
   "pygments_lexer": "ipython3",
   "version": "3.6.5"
  }
 },
 "nbformat": 4,
 "nbformat_minor": 4
}
