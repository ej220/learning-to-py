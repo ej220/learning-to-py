{
 "cells": [
  {
   "cell_type": "code",
   "execution_count": 9,
   "metadata": {},
   "outputs": [],
   "source": [
    "from random_word import RandomWords\n",
    "r = RandomWords()"
   ]
  },
  {
   "cell_type": "code",
   "execution_count": 31,
   "metadata": {},
   "outputs": [
    {
     "name": "stdout",
     "output_type": "stream",
     "text": [
      "Hello, what's your name?\n"
     ]
    },
    {
     "name": "stdin",
     "output_type": "stream",
     "text": [
      " Ed\n"
     ]
    },
    {
     "name": "stdout",
     "output_type": "stream",
     "text": [
      "Nice to meet you Ed. Would you like to play a game of hangman?\n"
     ]
    },
    {
     "name": "stdin",
     "output_type": "stream",
     "text": [
      "y/n? y\n"
     ]
    },
    {
     "name": "stdout",
     "output_type": "stream",
     "text": [
      "Awesome! Let's play!\n",
      "True\n",
      "Great game Ed! Would you like to play again?\n"
     ]
    },
    {
     "name": "stdin",
     "output_type": "stream",
     "text": [
      "y/n? n\n"
     ]
    },
    {
     "name": "stdout",
     "output_type": "stream",
     "text": [
      "No problem. Have a nice day.\n"
     ]
    }
   ],
   "source": [
    "def f_playgame(name):\n",
    "    while True:\n",
    "        playgame = input(\"y/n?\")\n",
    "        if playgame[0].lower() == \"y\":\n",
    "            print(\"Awesome! Let's play!\")\n",
    "            return(True)\n",
    "        elif playgame[0].lower() == \"n\":\n",
    "            print(\"No problem. Have a nice day.\")\n",
    "            return(False)\n",
    "        else:\n",
    "            print(f\"Sorry {name}, I didn't quite catch that... Do you want to play?\")\n",
    "\n",
    "def f_wordget():\n",
    "    while True:\n",
    "        word = r.get_random_word()\n",
    "        result = f_wordcheck(word)\n",
    "        if result == True:\n",
    "            word = word.lower()\n",
    "            break\n",
    "    return (word) \n",
    "\n",
    "def f_wordcheck(word):\n",
    "    for char in word:\n",
    "        if char.isalpha() != True:\n",
    "            return(False)\n",
    "    return(True)\n",
    "\n",
    "def f_playagain():\n",
    "    while True:\n",
    "        playgame = input(\"y/n?\")\n",
    "        if playgame[0].lower() == \"y\":\n",
    "            print(\"Awesome! Let's play!\")\n",
    "            return(True)\n",
    "        elif playgame[0].lower() == \"n\":\n",
    "            print(\"No problem. Have a nice day.\")\n",
    "            return(False)\n",
    "        else:\n",
    "            print(f\"Sorry {name}, I didn't quite catch that... Do you want to play again?\")    \n",
    "\n",
    "def f_guess(guesslist):\n",
    "    while True:\n",
    "        thisguess = input()\n",
    "        if len(thisguess) != 1:\n",
    "            print(\"Please guess a single letter.\")\n",
    "        elif thisguess.isalpha() != True:\n",
    "            print(\"Letters only please.\")\n",
    "        elif thisguess in guesses:\n",
    "            print(f\"You've already guessed the letter {thisguess}. Try again.\")\n",
    "        else:\n",
    "            guess = thisguess.lower()\n",
    "            break\n",
    "    return(guess)\n",
    "\n",
    "            \n",
    "def f_game():\n",
    "    word = f_wordget()\n",
    "    clue = \"_\" * len(word)\n",
    "    guesses = \"\"\n",
    "    guess = f_guess(guesslist)\n",
    "    \n",
    "    print(f\"Great game {name}! Would you like to play again?\")\n",
    "    playagain = f_playagain()\n",
    "    return(playagain)\n",
    "\n",
    "\n",
    "print(\"Hello, what's your name?\")\n",
    "name = input()\n",
    "print(f\"Nice to meet you {name}. Would you like to play a game of hangman?\")\n",
    "playgame = f_playgame(name)   \n",
    "\n",
    "while True:\n",
    "    if playgame == True:\n",
    "        playgame = f_game()\n",
    "    else:\n",
    "        break"
   ]
  },
  {
   "cell_type": "code",
   "execution_count": null,
   "metadata": {},
   "outputs": [],
   "source": []
  }
 ],
 "metadata": {
  "kernelspec": {
   "display_name": "Python 3",
   "language": "python",
   "name": "python3"
  },
  "language_info": {
   "codemirror_mode": {
    "name": "ipython",
    "version": 3
   },
   "file_extension": ".py",
   "mimetype": "text/x-python",
   "name": "python",
   "nbconvert_exporter": "python",
   "pygments_lexer": "ipython3",
   "version": "3.6.5"
  }
 },
 "nbformat": 4,
 "nbformat_minor": 4
}
